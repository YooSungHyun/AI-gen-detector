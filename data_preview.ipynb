{
 "cells": [
  {
   "cell_type": "code",
   "execution_count": 1,
   "metadata": {},
   "outputs": [],
   "source": [
    "import pandas as pd"
   ]
  },
  {
   "cell_type": "code",
   "execution_count": 17,
   "metadata": {},
   "outputs": [],
   "source": [
    "train_essay = pd.read_csv(\"./data/train_essays.csv\")\n",
    "train_prompt = pd.read_csv(\"./data/train_prompts.csv\")"
   ]
  },
  {
   "cell_type": "code",
   "execution_count": null,
   "metadata": {},
   "outputs": [],
   "source": [
    "additional_data_1 = pd.read_csv(\"./data/1.daigt_external_dataset.csv\")\n",
    "additional_data_2 = pd.read_csv(\"./data/2.ai_generated_train_essays.csv\")"
   ]
  },
  {
   "cell_type": "code",
   "execution_count": 18,
   "metadata": {},
   "outputs": [
    {
     "name": "stdout",
     "output_type": "stream",
     "text": [
      "Index(['id', 'prompt_id', 'text', 'generated'], dtype='object')\n",
      "Index(['prompt_id', 'prompt_name', 'instructions', 'source_text'], dtype='object')\n",
      "Index(['id', 'text', 'instructions', 'source_text'], dtype='object')\n",
      "Index(['id', 'prompt_id', 'text', 'generated'], dtype='object')\n"
     ]
    }
   ],
   "source": [
    "print(train_essay.columns)\n",
    "print(train_prompt.columns)\n",
    "print(additional_data_1.columns)\n",
    "print(additional_data_2.columns)"
   ]
  },
  {
   "cell_type": "code",
   "execution_count": 23,
   "metadata": {},
   "outputs": [
    {
     "name": "stdout",
     "output_type": "stream",
     "text": [
      "Car-free cities\n"
     ]
    }
   ],
   "source": [
    "print(train_prompt.iloc[0][\"prompt_name\"])"
   ]
  }
 ],
 "metadata": {
  "kernelspec": {
   "display_name": ".venv",
   "language": "python",
   "name": "python3"
  },
  "language_info": {
   "codemirror_mode": {
    "name": "ipython",
    "version": 3
   },
   "file_extension": ".py",
   "mimetype": "text/x-python",
   "name": "python",
   "nbconvert_exporter": "python",
   "pygments_lexer": "ipython3",
   "version": "3.11.2"
  }
 },
 "nbformat": 4,
 "nbformat_minor": 2
}
