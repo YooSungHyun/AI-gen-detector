{
 "cells": [
  {
   "cell_type": "markdown",
   "metadata": {},
   "source": [
    "# Preprocess\n",
    "### Dataset 전부 불러오기"
   ]
  },
  {
   "cell_type": "code",
   "execution_count": 1,
   "metadata": {},
   "outputs": [
    {
     "name": "stderr",
     "output_type": "stream",
     "text": [
      "/data/bart/temp_workspace/AI-gen-detector/.venv/lib/python3.10/site-packages/datasets/table.py:1421: FutureWarning: promote has been superseded by mode='default'.\n",
      "  table = cls._concat_blocks(blocks, axis=0)\n"
     ]
    }
   ],
   "source": [
    "import datasets\n",
    "\n",
    "total = datasets.load_from_disk(\"./data/concat_data/total_dataset\")\n",
    "train_data = datasets.load_from_disk(\"./data/arrow_datasets/00.train_essays.csv\")\n",
    "data_1 = datasets.load_from_disk(\"./data/arrow_datasets/01.ai_generated.csv\")\n",
    "data_2 = datasets.load_from_disk(\"./data/arrow_datasets/02.train_essays_7_prompts.csv\")\n",
    "data_3 = datasets.load_from_disk(\"./data/arrow_datasets/03.persuade15_claude_instant1.csv\")\n",
    "data_4 = datasets.load_from_disk(\"./data/arrow_datasets/04.train_drcat_04.csv\")\n",
    "data_5 = datasets.load_from_disk(\"./data/arrow_datasets/05.train_external_drcat_02.csv\")\n",
    "data_6 = datasets.load_from_disk(\"./data/arrow_datasets/06.argugpt.csv\")\n",
    "data_7 = datasets.load_from_disk(\"./data/arrow_datasets/07.persuade_2.0_human_scores_demo_id_github.csv\")\n",
    "data_8 = datasets.load_from_disk(\"./data/arrow_datasets/09.llama70b_and_falcon180b.csv\")\n",
    "data_9 = datasets.load_from_disk(\"./data/arrow_datasets/10.sakibsh_dataset.csv\")\n",
    "data_10 = datasets.load_from_disk(\"./data/arrow_datasets/11.ielts_writing_dataset.csv\")"
   ]
  },
  {
   "cell_type": "markdown",
   "metadata": {},
   "source": [
    "### train_essays는 모든 데이터를 다 넣을 것이다. 따라서, 외의 데이터들만 합쳐준다"
   ]
  },
  {
   "cell_type": "code",
   "execution_count": 2,
   "metadata": {},
   "outputs": [],
   "source": [
    "external_dataset = datasets.concatenate_datasets([data_1,data_2,data_3,data_4,data_5,data_6,data_7,data_8,data_9,data_10])"
   ]
  },
  {
   "cell_type": "markdown",
   "metadata": {},
   "source": [
    "### 필요시에 따라 저장"
   ]
  },
  {
   "cell_type": "code",
   "execution_count": null,
   "metadata": {},
   "outputs": [],
   "source": [
    "external_dataset.save_to_disk(\"./data/concat_data/only_external\")"
   ]
  },
  {
   "cell_type": "markdown",
   "metadata": {},
   "source": [
    "## 여기를 넘어가기 전에, text_dedup을 이용하여, ex_minhash_dedup을 생성해줘야한다."
   ]
  },
  {
   "cell_type": "markdown",
   "metadata": {},
   "source": [
    "### 0과 1의 비율이 동일하면서, train_essays는 전부 포함될 수 있도록 작업"
   ]
  },
  {
   "cell_type": "code",
   "execution_count": 3,
   "metadata": {},
   "outputs": [],
   "source": [
    "ex_data = datasets.load_from_disk(\"./data/concat_data/ex_minhash_dedup_99\")\n",
    "ex_human = ex_data.filter(lambda x:x[\"generated\"] == 0)\n",
    "ex_llm = ex_data.filter(lambda x:x[\"generated\"] == 1)\n",
    "\n",
    "train_llm = train_data.filter(lambda x:x[\"generated\"]==1)\n",
    "train_human = train_data.filter(lambda x:x[\"generated\"]==0)"
   ]
  },
  {
   "cell_type": "markdown",
   "metadata": {},
   "source": [
    "### 두 개수 중에 적은 쪽을 택한다. (Under Sampling)"
   ]
  },
  {
   "cell_type": "code",
   "execution_count": 4,
   "metadata": {},
   "outputs": [
    {
     "name": "stdout",
     "output_type": "stream",
     "text": [
      "19323\n"
     ]
    }
   ],
   "source": [
    "min_val = min(len(ex_llm)+len(train_llm), len(ex_human)+len(train_human))\n",
    "print(min_val)"
   ]
  },
  {
   "cell_type": "markdown",
   "metadata": {},
   "source": [
    "### train_data만큼은 다 들어가야하니, 제외하고 샘플링한다."
   ]
  },
  {
   "cell_type": "code",
   "execution_count": 5,
   "metadata": {},
   "outputs": [],
   "source": [
    "human_split = ex_human.shuffle(seed=42).select(range(min_val-len(train_human)))\n",
    "llm_split = ex_llm.shuffle(seed=42).select(range(min_val-len(train_llm)))"
   ]
  },
  {
   "cell_type": "markdown",
   "metadata": {},
   "source": [
    "### train_data를 마지막에 합쳐주면, 비율은 동일하면서, 개수는 딱 맞게 된다."
   ]
  },
  {
   "cell_type": "code",
   "execution_count": 6,
   "metadata": {},
   "outputs": [
    {
     "name": "stderr",
     "output_type": "stream",
     "text": [
      "/data/bart/temp_workspace/AI-gen-detector/.venv/lib/python3.10/site-packages/datasets/table.py:1395: FutureWarning: promote has been superseded by mode='default'.\n",
      "  block_group = [InMemoryTable(cls._concat_blocks(list(block_group), axis=axis))]\n"
     ]
    }
   ],
   "source": [
    "total_human = datasets.concatenate_datasets([train_human, human_split])\n",
    "total_llm = datasets.concatenate_datasets([train_llm, llm_split])\n",
    "\n",
    "assert len(total_llm) == len(total_human) == min_val, \"데이터 숫자처리 뭔가 오류남\""
   ]
  },
  {
   "cell_type": "markdown",
   "metadata": {},
   "source": [
    "### 최종 데이터 만드는 작업"
   ]
  },
  {
   "cell_type": "code",
   "execution_count": 7,
   "metadata": {},
   "outputs": [],
   "source": [
    "total_data = datasets.concatenate_datasets([total_human, total_llm])"
   ]
  },
  {
   "cell_type": "markdown",
   "metadata": {},
   "source": [
    "### 필요시에 저장"
   ]
  },
  {
   "cell_type": "code",
   "execution_count": 54,
   "metadata": {},
   "outputs": [
    {
     "data": {
      "application/vnd.jupyter.widget-view+json": {
       "model_id": "062c515b41094df28d4d4f8d86fff458",
       "version_major": 2,
       "version_minor": 0
      },
      "text/plain": [
       "Saving the dataset (0/1 shards):   0%|          | 0/38646 [00:00<?, ? examples/s]"
      ]
     },
     "metadata": {},
     "output_type": "display_data"
    }
   ],
   "source": [
    "total_data.save_to_disk(\"./data/concat_data/under_sample_99\")"
   ]
  },
  {
   "cell_type": "markdown",
   "metadata": {},
   "source": [
    "# K-fold data를 만드는 과정"
   ]
  },
  {
   "cell_type": "code",
   "execution_count": 8,
   "metadata": {},
   "outputs": [],
   "source": [
    "from sklearn.model_selection import StratifiedKFold\n",
    "kfold = StratifiedKFold(n_splits=5, shuffle=True)\n"
   ]
  },
  {
   "cell_type": "markdown",
   "metadata": {},
   "source": [
    "#### 홀짝 여부에 따라 분포는 최대 1개까지 달라질 수 있다."
   ]
  },
  {
   "cell_type": "code",
   "execution_count": 9,
   "metadata": {},
   "outputs": [
    {
     "data": {
      "application/vnd.jupyter.widget-view+json": {
       "model_id": "e524f42a63ec44d5be651a3103091272",
       "version_major": 2,
       "version_minor": 0
      },
      "text/plain": [
       "Saving the dataset (0/1 shards):   0%|          | 0/30916 [00:00<?, ? examples/s]"
      ]
     },
     "metadata": {},
     "output_type": "display_data"
    },
    {
     "data": {
      "application/vnd.jupyter.widget-view+json": {
       "model_id": "79bec968d21748b78266796c10f681bd",
       "version_major": 2,
       "version_minor": 0
      },
      "text/plain": [
       "Saving the dataset (0/1 shards):   0%|          | 0/7730 [00:00<?, ? examples/s]"
      ]
     },
     "metadata": {},
     "output_type": "display_data"
    },
    {
     "data": {
      "application/vnd.jupyter.widget-view+json": {
       "model_id": "9b15d1b29ab64d43b2e3c788f5e6eaa5",
       "version_major": 2,
       "version_minor": 0
      },
      "text/plain": [
       "Saving the dataset (0/1 shards):   0%|          | 0/30917 [00:00<?, ? examples/s]"
      ]
     },
     "metadata": {},
     "output_type": "display_data"
    },
    {
     "data": {
      "application/vnd.jupyter.widget-view+json": {
       "model_id": "becddcfeb66245b7b51ebe3c644dc8bd",
       "version_major": 2,
       "version_minor": 0
      },
      "text/plain": [
       "Saving the dataset (0/1 shards):   0%|          | 0/7729 [00:00<?, ? examples/s]"
      ]
     },
     "metadata": {},
     "output_type": "display_data"
    },
    {
     "data": {
      "application/vnd.jupyter.widget-view+json": {
       "model_id": "dcc18dcd570f4618ac858ae31818a144",
       "version_major": 2,
       "version_minor": 0
      },
      "text/plain": [
       "Saving the dataset (0/1 shards):   0%|          | 0/30917 [00:00<?, ? examples/s]"
      ]
     },
     "metadata": {},
     "output_type": "display_data"
    },
    {
     "data": {
      "application/vnd.jupyter.widget-view+json": {
       "model_id": "a46c8fcdaadf4f168eb5c5132e3b56c0",
       "version_major": 2,
       "version_minor": 0
      },
      "text/plain": [
       "Saving the dataset (0/1 shards):   0%|          | 0/7729 [00:00<?, ? examples/s]"
      ]
     },
     "metadata": {},
     "output_type": "display_data"
    },
    {
     "data": {
      "application/vnd.jupyter.widget-view+json": {
       "model_id": "378cff05d90c44b28cffb288bba05c66",
       "version_major": 2,
       "version_minor": 0
      },
      "text/plain": [
       "Saving the dataset (0/1 shards):   0%|          | 0/30917 [00:00<?, ? examples/s]"
      ]
     },
     "metadata": {},
     "output_type": "display_data"
    },
    {
     "data": {
      "application/vnd.jupyter.widget-view+json": {
       "model_id": "9ef7b3887c504c3d95ee19ada2aa90ef",
       "version_major": 2,
       "version_minor": 0
      },
      "text/plain": [
       "Saving the dataset (0/1 shards):   0%|          | 0/7729 [00:00<?, ? examples/s]"
      ]
     },
     "metadata": {},
     "output_type": "display_data"
    },
    {
     "data": {
      "application/vnd.jupyter.widget-view+json": {
       "model_id": "efe3ed38d9e34171885464d0861cc06d",
       "version_major": 2,
       "version_minor": 0
      },
      "text/plain": [
       "Saving the dataset (0/1 shards):   0%|          | 0/30917 [00:00<?, ? examples/s]"
      ]
     },
     "metadata": {},
     "output_type": "display_data"
    },
    {
     "data": {
      "application/vnd.jupyter.widget-view+json": {
       "model_id": "47222a8c478b42d993663469588b72ff",
       "version_major": 2,
       "version_minor": 0
      },
      "text/plain": [
       "Saving the dataset (0/1 shards):   0%|          | 0/7729 [00:00<?, ? examples/s]"
      ]
     },
     "metadata": {},
     "output_type": "display_data"
    }
   ],
   "source": [
    "for fold_num, train_test_idx in enumerate(kfold.split(X=total_data, y=total_data[\"generated\"])):\n",
    "    train_idx, test_idx = train_test_idx\n",
    "    train_dataset = total_data.select(train_idx)\n",
    "    eval_dataset = total_data.select(test_idx)\n",
    "    train_dataset.save_to_disk(f\"./data/concat_data/kfold_under_sample_99/train/{fold_num}\")\n",
    "    eval_dataset.save_to_disk(f\"./data/concat_data/kfold_under_sample_99/eval/{fold_num}\")"
   ]
  }
 ],
 "metadata": {
  "kernelspec": {
   "display_name": ".venv",
   "language": "python",
   "name": "python3"
  },
  "language_info": {
   "codemirror_mode": {
    "name": "ipython",
    "version": 3
   },
   "file_extension": ".py",
   "mimetype": "text/x-python",
   "name": "python",
   "nbconvert_exporter": "python",
   "pygments_lexer": "ipython3",
   "version": "3.10.11"
  }
 },
 "nbformat": 4,
 "nbformat_minor": 2
}
